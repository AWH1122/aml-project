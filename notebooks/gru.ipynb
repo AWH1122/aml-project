{
 "cells": [
  {
   "cell_type": "code",
   "execution_count": null,
   "metadata": {},
   "outputs": [],
   "source": [
    "import json\n",
    "\n",
    "import matplotlib.pyplot as plt\n",
    "import numpy as np\n",
    "import optuna\n",
    "import pandas as pd\n",
    "import torch\n",
    "import torch.nn as nn\n",
    "import torch.optim as optim\n",
    "from sklearn.metrics import root_mean_squared_error\n",
    "from sklearn.model_selection import train_test_split\n",
    "from sklearn.preprocessing import MinMaxScaler\n",
    "\n",
    "%config InlineBackend.figure_format = 'svg'"
   ]
  },
  {
   "cell_type": "code",
   "execution_count": null,
   "metadata": {},
   "outputs": [],
   "source": [
    "torch.manual_seed(0)\n",
    "device = torch.device(\n",
    "    \"cuda\"\n",
    "    if torch.cuda.is_available()\n",
    "    else \"mps\"\n",
    "    if torch.backends.mps.is_available()\n",
    "    else \"cpu\"\n",
    ")"
   ]
  },
  {
   "cell_type": "code",
   "execution_count": null,
   "metadata": {},
   "outputs": [],
   "source": [
    "DATASET = \"eimi\""
   ]
  },
  {
   "cell_type": "code",
   "execution_count": null,
   "metadata": {},
   "outputs": [],
   "source": [
    "df = pd.read_csv(f\"../data/raw/{DATASET}.csv\", parse_dates=True)"
   ]
  },
  {
   "cell_type": "code",
   "execution_count": null,
   "metadata": {},
   "outputs": [],
   "source": [
    "df[\"Close\"].plot(title=f\"{DATASET}\", figsize=(12, 8))"
   ]
  },
  {
   "cell_type": "code",
   "execution_count": null,
   "metadata": {},
   "outputs": [],
   "source": [
    "x_scaler = MinMaxScaler()\n",
    "y_scaler = MinMaxScaler()"
   ]
  },
  {
   "cell_type": "code",
   "execution_count": null,
   "metadata": {},
   "outputs": [],
   "source": [
    "Xy_train_val, Xy_test = train_test_split(\n",
    "    df[\"Close\"].values, test_size=0.2, shuffle=False\n",
    ")\n",
    "Xy_train, Xy_val = train_test_split(Xy_train_val, test_size=0.2, shuffle=False)"
   ]
  },
  {
   "cell_type": "code",
   "execution_count": null,
   "metadata": {},
   "outputs": [],
   "source": [
    "class GRU(nn.Module):\n",
    "    def __init__(self, input_size, hidden_layer_size, num_layers):\n",
    "        super(GRU, self).__init__()\n",
    "        self.num_layers = num_layers\n",
    "        self.hidden_layer_size = hidden_layer_size\n",
    "        self.gru = nn.GRU(\n",
    "            input_size, hidden_layer_size, num_layers=num_layers, batch_first=True\n",
    "        )\n",
    "        self.fc = nn.Linear(hidden_layer_size, 1)\n",
    "\n",
    "    def forward(self, x):\n",
    "        h0 = torch.zeros(self.num_layers, x.size(0), self.hidden_layer_size).to(device)\n",
    "        out, _ = self.gru(x, h0)\n",
    "        out = self.fc(out[:, -1, :])\n",
    "        return out"
   ]
  },
  {
   "cell_type": "code",
   "execution_count": null,
   "metadata": {},
   "outputs": [],
   "source": [
    "def to_tensor(data):\n",
    "    return torch.tensor(data, dtype=torch.float32).unsqueeze(-1).to(device)"
   ]
  },
  {
   "cell_type": "code",
   "execution_count": null,
   "metadata": {},
   "outputs": [],
   "source": [
    "def create_sequences(data, window_size=7):\n",
    "    xs, ys = [], []\n",
    "    for i in range(len(data) - window_size):\n",
    "        x = data[i : (i + window_size)]\n",
    "        y = data[i + window_size]\n",
    "        xs.append(x)\n",
    "        ys.append(y)\n",
    "    return np.array(xs), np.array(ys)"
   ]
  },
  {
   "cell_type": "code",
   "execution_count": null,
   "metadata": {},
   "outputs": [],
   "source": [
    "# Hyperparameter tuning\n",
    "def objective(trial):\n",
    "    hidden_size = trial.suggest_int(\"hidden_size\", 16, 128)\n",
    "    # num_layers = trial.suggest_int(\"num_layers\", 1, 4)\n",
    "    learning_rate = trial.suggest_float(\"lr\", 1e-5, 1e-2, log=True)\n",
    "    epochs = trial.suggest_int(\"epochs\", 100, 1000)\n",
    "    num_inputs = trial.suggest_int(\"num_inputs\", 5, 30)\n",
    "\n",
    "    model = GRU(1, hidden_layer_size=hidden_size, num_layers=2).to(device)\n",
    "    optimizer = optim.Adam(model.parameters(), lr=learning_rate)\n",
    "    criterion = nn.MSELoss()\n",
    "\n",
    "    X_train, y_train = create_sequences(Xy_train, window_size=num_inputs)\n",
    "    X_val, y_val = create_sequences(Xy_val, window_size=num_inputs)\n",
    "\n",
    "    X_train = to_tensor(x_scaler.fit_transform(X_train))\n",
    "    X_val = to_tensor(x_scaler.transform(X_val))\n",
    "\n",
    "    y_train = to_tensor(y_scaler.fit_transform(y_train.reshape(-1, 1)).reshape(-1))\n",
    "    y_val = to_tensor(y_scaler.transform(y_val.reshape(-1, 1)).reshape(-1))\n",
    "\n",
    "    for epoch in range(epochs):\n",
    "        model.train()\n",
    "        optimizer.zero_grad()\n",
    "\n",
    "        train_output = model(X_train)\n",
    "        train_loss = criterion(train_output, y_train)\n",
    "\n",
    "        train_loss.backward()\n",
    "        optimizer.step()\n",
    "\n",
    "        if (epoch + 1) % 100 == 0:\n",
    "            model.eval()\n",
    "            with torch.no_grad():\n",
    "                val_output = model(X_val)\n",
    "                val_loss = criterion(val_output, y_val)\n",
    "            trial.report(val_loss.item(), epoch)\n",
    "            if trial.should_prune():\n",
    "                raise optuna.exceptions.TrialPruned()\n",
    "\n",
    "    # Compute final validation loss after training completes\n",
    "    model.eval()\n",
    "    with torch.no_grad():\n",
    "        final_val_output = model(X_val)\n",
    "        final_val_loss = criterion(final_val_output, y_val)\n",
    "\n",
    "    return final_val_loss.item()"
   ]
  },
  {
   "cell_type": "code",
   "execution_count": null,
   "metadata": {},
   "outputs": [],
   "source": [
    "def train_model(hyperparams, X_train, y_train, X_test, y_test):\n",
    "    hidden_size = hyperparams[\"hidden_size\"]\n",
    "    # num_layers = hyperparams[\"num_layers\"]\n",
    "    learning_rate = hyperparams[\"lr\"]\n",
    "    epochs = hyperparams[\"epochs\"]\n",
    "\n",
    "    model = GRU(1, hidden_layer_size=hidden_size, num_layers=2).to(device)\n",
    "    optimizer = optim.Adam(model.parameters(), lr=learning_rate)\n",
    "    loss = nn.MSELoss()\n",
    "\n",
    "    for epoch in range(epochs):\n",
    "        model.train()\n",
    "        optimizer.zero_grad()\n",
    "        y_pred = model(X_train)\n",
    "        train_loss = loss(y_pred, y_train)\n",
    "        train_loss.backward()\n",
    "        optimizer.step()\n",
    "\n",
    "        if epoch % 100 == 0:\n",
    "            model.eval()\n",
    "            with torch.no_grad():\n",
    "                y_test_pred = model(X_test)\n",
    "                test_loss = loss(y_test_pred, y_test)\n",
    "            print(\n",
    "                f\"Epoch {epoch}, Train Loss: {train_loss.item():.4f}, Test Loss: {test_loss.item():.4f}\"\n",
    "            )\n",
    "    return model"
   ]
  },
  {
   "cell_type": "code",
   "execution_count": null,
   "metadata": {},
   "outputs": [],
   "source": [
    "sampler = optuna.samplers.TPESampler(seed=0)\n",
    "study = optuna.create_study(direction=\"minimize\", sampler=sampler)\n",
    "study.optimize(objective, n_trials=50)"
   ]
  },
  {
   "cell_type": "code",
   "execution_count": null,
   "metadata": {},
   "outputs": [],
   "source": [
    "params = study.best_params\n",
    "num_inputs = params[\"num_inputs\"]"
   ]
  },
  {
   "cell_type": "code",
   "execution_count": null,
   "metadata": {},
   "outputs": [],
   "source": [
    "with open(f\"../models/{DATASET}_hyperparams.json\", \"w\") as f:\n",
    "    json.dump(params, f, indent=4)"
   ]
  },
  {
   "cell_type": "code",
   "execution_count": null,
   "metadata": {},
   "outputs": [],
   "source": [
    "X_train_val, y_train_val = create_sequences(Xy_train_val, window_size=num_inputs)\n",
    "X_train_val = x_scaler.fit_transform(X_train_val)\n",
    "y_train_val = y_scaler.fit_transform(y_train_val.reshape(-1, 1)).reshape(-1)\n",
    "\n",
    "X_test, y_test = create_sequences(Xy_test, window_size=num_inputs)\n",
    "X_test = x_scaler.transform(X_test)\n",
    "y_test = y_scaler.transform(y_test.reshape(-1, 1)).reshape(-1)"
   ]
  },
  {
   "cell_type": "code",
   "execution_count": null,
   "metadata": {},
   "outputs": [],
   "source": [
    "gru = train_model(\n",
    "    params,\n",
    "    to_tensor(X_train_val),\n",
    "    to_tensor(y_train_val),\n",
    "    to_tensor(X_test),\n",
    "    to_tensor(y_test),\n",
    ")"
   ]
  },
  {
   "cell_type": "code",
   "execution_count": null,
   "metadata": {},
   "outputs": [],
   "source": [
    "points = []\n",
    "for i in range(len(X_test)):\n",
    "    input_seq = (\n",
    "        torch.tensor(X_test[i, :], dtype=torch.float32)\n",
    "        .to(device)\n",
    "        .unsqueeze(-1)\n",
    "        .unsqueeze(0)\n",
    "    )\n",
    "    value = gru(input_seq)\n",
    "    points.append(value.cpu().item())\n",
    "points = y_scaler.inverse_transform(np.array(points).reshape(-1, 1))\n",
    "rmse = root_mean_squared_error(\n",
    "    points, y_scaler.inverse_transform(y_test.reshape(-1, 1))\n",
    ")\n",
    "print(f\"RMSE: {rmse:.4f}\")\n",
    "plt.plot(y_scaler.inverse_transform(y_test.reshape(-1, 1)), label=\"Observed\")\n",
    "plt.plot(points, \"--\", label=\"Predicted\")\n",
    "plt.legend()"
   ]
  },
  {
   "cell_type": "code",
   "execution_count": null,
   "metadata": {},
   "outputs": [],
   "source": [
    "torch.save(gru, f\"../models/gru_{DATASET}.pt\")"
   ]
  }
 ],
 "metadata": {
  "kernelspec": {
   "display_name": "venv",
   "language": "python",
   "name": "python3"
  },
  "language_info": {
   "codemirror_mode": {
    "name": "ipython",
    "version": 3
   },
   "file_extension": ".py",
   "mimetype": "text/x-python",
   "name": "python",
   "nbconvert_exporter": "python",
   "pygments_lexer": "ipython3",
   "version": "3.13.1"
  }
 },
 "nbformat": 4,
 "nbformat_minor": 2
}
