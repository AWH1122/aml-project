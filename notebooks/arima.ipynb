{
 "cells": [
  {
   "cell_type": "code",
   "execution_count": null,
   "metadata": {},
   "outputs": [],
   "source": [
    "import matplotlib.pyplot as plt\n",
    "import numpy as np\n",
    "import pandas as pd\n",
    "from sklearn.metrics import root_mean_squared_error\n",
    "from sklearn.model_selection import train_test_split\n",
    "from statsmodels.tsa.statespace.sarimax import SARIMAX\n",
    "from statsmodels.tsa.stattools import adfuller\n",
    "\n",
    "%config InlineBackend.figure_formats = 'svg'"
   ]
  },
  {
   "cell_type": "code",
   "execution_count": null,
   "metadata": {},
   "outputs": [],
   "source": [
    "DATASET = \"eem\""
   ]
  },
  {
   "cell_type": "code",
   "execution_count": null,
   "metadata": {},
   "outputs": [],
   "source": [
    "df = pd.read_csv(f\"../data/raw/{DATASET}.csv\", parse_dates=True)"
   ]
  },
  {
   "cell_type": "code",
   "execution_count": null,
   "metadata": {},
   "outputs": [],
   "source": [
    "plt.plot(df[\"Close\"])"
   ]
  },
  {
   "cell_type": "code",
   "execution_count": null,
   "metadata": {},
   "outputs": [],
   "source": [
    "def create_sequences(data, window_size):\n",
    "    xs, ys = [], []\n",
    "    for i in range(len(data) - window_size):\n",
    "        x = data[i : (i + window_size)]\n",
    "        y = data[i + window_size]\n",
    "        xs.append(x)\n",
    "        ys.append(y)\n",
    "    return np.array(xs), np.array(ys)"
   ]
  },
  {
   "cell_type": "code",
   "execution_count": null,
   "metadata": {},
   "outputs": [],
   "source": [
    "Xy_train, Xy_test = train_test_split(df[\"Close\"].values, test_size=0.2, shuffle=False)\n",
    "X_train, y_train = create_sequences(Xy_train, window_size=7)\n",
    "X_test, y_test = create_sequences(Xy_test, window_size=7)"
   ]
  },
  {
   "cell_type": "code",
   "execution_count": null,
   "metadata": {},
   "outputs": [],
   "source": [
    "result = adfuller(df[\"Close\"])\n",
    "print(\"ADF Statistic:\", result[0])\n",
    "print(\"p-value:\", result[1])\n",
    "print(\"Critical Values:\", result[4])"
   ]
  },
  {
   "cell_type": "code",
   "execution_count": null,
   "metadata": {},
   "outputs": [],
   "source": [
    "d1 = df[\"Close\"].diff().dropna()\n",
    "result = adfuller(d1)\n",
    "print(\"ADF Statistic:\", result[0])\n",
    "print(\"p-value:\", result[1])\n",
    "print(\"Critical Values:\", result[4])\n",
    "d1.plot()"
   ]
  },
  {
   "cell_type": "code",
   "execution_count": null,
   "metadata": {},
   "outputs": [],
   "source": [
    "from statsmodels.stats.diagnostic import acorr_ljungbox\n",
    "\n",
    "# Perform Ljung-Box test on the differenced series\n",
    "ljung_box_result = acorr_ljungbox(d1, lags=[10], return_df=True)\n",
    "print(ljung_box_result)"
   ]
  },
  {
   "cell_type": "code",
   "execution_count": null,
   "metadata": {},
   "outputs": [],
   "source": [
    "from statsmodels.graphics.tsaplots import plot_acf, plot_pacf\n",
    "\n",
    "fig, axes = plt.subplots(1, 2, figsize=(15, 5))\n",
    "\n",
    "# ACF plot\n",
    "plot_acf(d1, ax=axes[0])\n",
    "axes[0].set_title(\"Autocorrelation Function (ACF)\")\n",
    "\n",
    "# PACF plot\n",
    "plot_pacf(d1, ax=axes[1])\n",
    "axes[1].set_title(\"Partial Autocorrelation Function (PACF)\")\n",
    "\n",
    "plt.show()"
   ]
  },
  {
   "cell_type": "code",
   "execution_count": null,
   "metadata": {},
   "outputs": [],
   "source": [
    "ari_train, ari_test = train_test_split(df[\"Close\"].values, test_size=0.2, shuffle=False)"
   ]
  },
  {
   "cell_type": "code",
   "execution_count": null,
   "metadata": {},
   "outputs": [],
   "source": [
    "# Fit the ARIMA model on the full training series\n",
    "arima = SARIMAX(ari_train, order=(0, 1, 0))\n",
    "model = arima.fit()\n",
    "\n",
    "points = []\n",
    "\n",
    "# Loop over the test set using enumerate to get the index\n",
    "for i, data in enumerate(ari_test):\n",
    "    # Forecast one step ahead\n",
    "    pred = model.forecast(steps=1)\n",
    "    points.append(pred)  # Extract the forecast value from the array/series\n",
    "    # Update the model's state with the new observation; note that 'refit' is correct\n",
    "    model = model.append([data], refit=False)\n",
    "    if i % 100 == 0:\n",
    "        print(f\"{i} / {len(ari_test)}\")\n",
    "\n",
    "print(\"RMSE:\", root_mean_squared_error(ari_test, points))\n",
    "\n",
    "# Plot the true vs. predicted values\n",
    "plt.plot(ari_test, label=\"True\")\n",
    "plt.plot(points, \"--\", label=\"Predicted\")\n",
    "plt.xlabel(\"Day\")\n",
    "plt.ylabel(\"Price\")\n",
    "plt.grid()\n",
    "plt.legend()\n",
    "plt.savefig(f\"../report/images/{DATASET}_arima.png\", dpi=300, bbox_inches=\"tight\")\n",
    "plt.show()"
   ]
  }
 ],
 "metadata": {
  "kernelspec": {
   "display_name": "venv",
   "language": "python",
   "name": "python3"
  },
  "language_info": {
   "codemirror_mode": {
    "name": "ipython",
    "version": 3
   },
   "file_extension": ".py",
   "mimetype": "text/x-python",
   "name": "python",
   "nbconvert_exporter": "python",
   "pygments_lexer": "ipython3",
   "version": "3.13.2"
  }
 },
 "nbformat": 4,
 "nbformat_minor": 2
}
