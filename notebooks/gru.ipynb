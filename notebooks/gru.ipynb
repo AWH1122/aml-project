{
 "cells": [
  {
   "cell_type": "code",
   "execution_count": null,
   "metadata": {},
   "outputs": [],
   "source": [
    "import matplotlib.pyplot as plt\n",
    "import numpy as np\n",
    "import optuna\n",
    "import pandas as pd\n",
    "import torch\n",
    "import torch.nn as nn\n",
    "import torch.optim as optim\n",
    "import yfinance as yf\n",
    "from sklearn.metrics import mean_squared_error\n",
    "from sklearn.model_selection import train_test_split\n",
    "from sklearn.preprocessing import MinMaxScaler\n",
    "\n",
    "%config InlineBackend.figure_format = 'svg'"
   ]
  },
  {
   "cell_type": "code",
   "execution_count": null,
   "metadata": {},
   "outputs": [],
   "source": [
    "torch.manual_seed(0)\n",
    "device = torch.device(\n",
    "    \"cuda\"\n",
    "    if torch.cuda.is_available()\n",
    "    else \"mps\"\n",
    "    if torch.backends.mps.is_available()\n",
    "    else \"cpu\"\n",
    ")"
   ]
  },
  {
   "cell_type": "code",
   "execution_count": null,
   "metadata": {},
   "outputs": [],
   "source": [
    "# df = yf.download(\"EEM\", end=\"2025-01-01\", interval=\"1d\",multi_level_index=False)\n",
    "# df.to_csv(\"../data/raw/eem.csv\", index=True)"
   ]
  },
  {
   "cell_type": "code",
   "execution_count": null,
   "metadata": {},
   "outputs": [],
   "source": [
    "df = pd.read_csv(\"../data/raw/eem.csv\", parse_dates=True)"
   ]
  },
  {
   "cell_type": "code",
   "execution_count": null,
   "metadata": {},
   "outputs": [],
   "source": [
    "df[\"Close\"].plot(title=\"EEM\", figsize=(12, 8))"
   ]
  },
  {
   "cell_type": "code",
   "execution_count": null,
   "metadata": {},
   "outputs": [],
   "source": [
    "class GRU(nn.Module):\n",
    "    def __init__(self, input_size, hidden_layer_size, num_layers):\n",
    "        super(GRU, self).__init__()\n",
    "        self.num_layers = num_layers\n",
    "        self.hidden_layer_size = hidden_layer_size\n",
    "        self.gru = nn.GRU(\n",
    "            input_size, hidden_layer_size, num_layers=num_layers, batch_first=True\n",
    "        )\n",
    "        self.fc = nn.Linear(hidden_layer_size, 1)\n",
    "\n",
    "    def forward(self, x):\n",
    "        h0 = torch.zeros(self.num_layers, x.size(0), self.hidden_layer_size).to(device)\n",
    "        out, _ = self.gru(x, h0)\n",
    "        out = self.fc(out[:, -1, :])\n",
    "        return out"
   ]
  },
  {
   "cell_type": "code",
   "execution_count": null,
   "metadata": {},
   "outputs": [],
   "source": [
    "def create_sequences(data, window_size=7):\n",
    "    xs, ys = [], []\n",
    "    for i in range(len(data) - window_size):\n",
    "        x = data[i : (i + window_size)]\n",
    "        y = data[i + window_size]\n",
    "        xs.append(x)\n",
    "        ys.append(y)\n",
    "    return np.array(xs), np.array(ys)"
   ]
  },
  {
   "cell_type": "code",
   "execution_count": null,
   "metadata": {},
   "outputs": [],
   "source": [
    "num_inputs = 10\n",
    "gru = GRU(1, hidden_layer_size=64, num_layers=4).to(device)\n",
    "criterion = nn.MSELoss()\n",
    "optimizer = optim.Adam(gru.parameters(), lr=0.005)\n",
    "epochs = 1000"
   ]
  },
  {
   "cell_type": "code",
   "execution_count": null,
   "metadata": {},
   "outputs": [],
   "source": [
    "x_scaler = MinMaxScaler()\n",
    "y_scaler = MinMaxScaler()"
   ]
  },
  {
   "cell_type": "code",
   "execution_count": null,
   "metadata": {},
   "outputs": [],
   "source": [
    "Xy_train_val, Xy_test = train_test_split(\n",
    "    df[\"Close\"].values, test_size=0.2, shuffle=False\n",
    ")\n",
    "Xy_train, Xy_val = train_test_split(Xy_train_val, test_size=0.2, shuffle=False)"
   ]
  },
  {
   "cell_type": "code",
   "execution_count": null,
   "metadata": {},
   "outputs": [],
   "source": [
    "X_train, y_train = create_sequences(Xy_train, window_size=num_inputs)\n",
    "X_val, y_val = create_sequences(Xy_val, window_size=num_inputs)\n",
    "X_test, y_test = create_sequences(Xy_test, window_size=num_inputs)\n",
    "\n",
    "X_train = x_scaler.fit_transform(X_train)\n",
    "X_val = x_scaler.transform(X_val)\n",
    "X_test = x_scaler.transform(X_test)\n",
    "\n",
    "y_train = y_scaler.fit_transform(y_train.reshape(-1, 1)).reshape(-1)\n",
    "y_val = y_scaler.transform(y_val.reshape(-1, 1)).reshape(-1)\n",
    "y_test = y_scaler.transform(y_test.reshape(-1, 1)).reshape(-1)"
   ]
  },
  {
   "cell_type": "code",
   "execution_count": null,
   "metadata": {},
   "outputs": [],
   "source": [
    "def train_model(hyperparams, X_train, y_train, X_val, y_val):\n",
    "    hidden_size = hyperparams[\"hidden_size\"]\n",
    "    num_layers = hyperparams[\"num_layers\"]\n",
    "    learning_rate = hyperparams[\"lr\"]\n",
    "    epochs = hyperparams[\"epochs\"]\n",
    "\n",
    "    model = GRU(1, hidden_layer_size=hidden_size, num_layers=num_layers).to(device)\n",
    "    optimizer = optim.Adam(model.parameters(), lr=learning_rate)\n",
    "    loss = nn.MSELoss()\n",
    "\n",
    "    X_train = torch.tensor(X_train, dtype=torch.float32).unsqueeze(-1).to(device)\n",
    "    y_train = torch.tensor(y_train, dtype=torch.float32).unsqueeze(-1).to(device)\n",
    "    X_val = torch.tensor(X_val, dtype=torch.float32).unsqueeze(-1).to(device)\n",
    "    y_val = torch.tensor(y_val, dtype=torch.float32).unsqueeze(-1).to(device)\n",
    "\n",
    "    for epoch in range(epochs):\n",
    "        model.train()\n",
    "        optimizer.zero_grad()\n",
    "        y_pred = model(X_train)\n",
    "        train_loss = loss(y_pred, y_train)\n",
    "        train_loss.backward()\n",
    "        optimizer.step()\n",
    "\n",
    "        if epoch % 100 == 0:\n",
    "            model.eval()\n",
    "            with torch.no_grad():\n",
    "                y_val_pred = model(X_val)\n",
    "                val_loss = loss(y_val_pred, y_val)\n",
    "            print(\n",
    "                f\"Epoch {epoch}, Train Loss: {train_loss.item()}, Val Loss: {val_loss.item()}\"\n",
    "            )\n",
    "    return model"
   ]
  },
  {
   "cell_type": "code",
   "execution_count": null,
   "metadata": {},
   "outputs": [],
   "source": [
    "# Hyperparameter tuning\n",
    "def objective(trial, seed=0):\n",
    "    hidden_size = trial.suggest_int(\"hidden_size\", 16, 128)\n",
    "    num_layers = trial.suggest_int(\"num_layers\", 1, 4)\n",
    "    learning_rate = trial.suggest_float(\"lr\", 1e-5, 1e-2, log=True)\n",
    "    epochs = trial.suggest_int(\"epochs\", 100, 1000)\n",
    "    num_inputs = trial.suggest_int(\"num_inputs\", 5, 30)\n",
    "\n",
    "    model = GRU(1, hidden_layer_size=hidden_size, num_layers=num_layers).to(device)\n",
    "    optimizer = optim.Adam(model.parameters(), lr=learning_rate)\n",
    "    criterion = nn.MSELoss()\n",
    "\n",
    "    X_train, y_train = create_sequences(Xy_train, window_size=num_inputs)\n",
    "    X_val, y_val = create_sequences(Xy_val, window_size=num_inputs)\n",
    "\n",
    "    X_train = x_scaler.fit_transform(X_train)\n",
    "    X_val = x_scaler.transform(X_val)\n",
    "\n",
    "    y_train = y_scaler.fit_transform(y_train.reshape(-1, 1)).reshape(-1)\n",
    "    y_val = y_scaler.transform(y_val.reshape(-1, 1)).reshape(-1)\n",
    "\n",
    "    X_train_tensor = torch.tensor(X_train, dtype=torch.float32).unsqueeze(-1).to(device)\n",
    "    y_train_tensor = torch.tensor(y_train, dtype=torch.float32).unsqueeze(-1).to(device)\n",
    "    X_val_tensor = torch.tensor(X_val, dtype=torch.float32).unsqueeze(-1).to(device)\n",
    "    y_val_tensor = torch.tensor(y_val, dtype=torch.float32).unsqueeze(-1).to(device)\n",
    "\n",
    "    for epoch in range(epochs):\n",
    "        model.train()\n",
    "        optimizer.zero_grad()\n",
    "\n",
    "        train_output = model(X_train_tensor)\n",
    "        train_loss = criterion(train_output, y_train_tensor)\n",
    "\n",
    "        train_loss.backward()\n",
    "        optimizer.step()\n",
    "\n",
    "        if (epoch + 1) % 100 == 0:\n",
    "            model.eval()\n",
    "            with torch.no_grad():\n",
    "                val_output = model(X_val_tensor)\n",
    "                val_loss = criterion(val_output, y_val_tensor)\n",
    "            trial.report(val_loss.item(), epoch)\n",
    "            if trial.should_prune():\n",
    "                raise optuna.exceptions.TrialPruned()\n",
    "\n",
    "    # Compute final validation loss after training completes\n",
    "    model.eval()\n",
    "    with torch.no_grad():\n",
    "        final_val_output = model(X_val_tensor)\n",
    "        final_val_loss = criterion(final_val_output, y_val_tensor)\n",
    "\n",
    "    return final_val_loss.item()\n",
    "\n",
    "\n",
    "study = optuna.create_study(direction=\"minimize\")\n",
    "study.optimize(objective, n_trials=30)"
   ]
  },
  {
   "cell_type": "code",
   "execution_count": null,
   "metadata": {},
   "outputs": [],
   "source": [
    "params = study.best_params"
   ]
  },
  {
   "cell_type": "code",
   "execution_count": null,
   "metadata": {},
   "outputs": [],
   "source": [
    "# X_train_tensor = torch.tensor(X_train, dtype=torch.float32).unsqueeze(-1).to(device)\n",
    "# y_train_tensor = torch.tensor(y_train, dtype=torch.float32).unsqueeze(-1).to(device)\n",
    "# X_test_tensor = torch.tensor(X_test, dtype=torch.float32).unsqueeze(-1).to(device)\n",
    "# y_test_tensor = torch.tensor(y_test, dtype=torch.float32).unsqueeze(-1).to(device)\n",
    "\n",
    "# for epoch in range(epochs):\n",
    "#     gru.train()\n",
    "#     optimizer.zero_grad()\n",
    "\n",
    "#     output = gru(X_train_tensor)\n",
    "#     train_loss = criterion(output, y_train_tensor)\n",
    "\n",
    "#     train_loss.backward()\n",
    "#     optimizer.step()\n",
    "\n",
    "#     if (epoch + 1) % 100 == 0:\n",
    "#         gru.eval()\n",
    "#         with torch.no_grad():\n",
    "#             test_output = gru(X_test_tensor)\n",
    "#             test_loss = criterion(test_output, y_test_tensor)\n",
    "#         print(\n",
    "#             f\"Epoch [{epoch + 1}/{epochs}], Train Loss: {train_loss.item()}, Test Loss: {test_loss.item()}\"\n",
    "#         )"
   ]
  },
  {
   "cell_type": "code",
   "execution_count": null,
   "metadata": {},
   "outputs": [],
   "source": [
    "gru = train_model(params, X_train, y_train, X_val, y_val)"
   ]
  },
  {
   "cell_type": "code",
   "execution_count": null,
   "metadata": {},
   "outputs": [],
   "source": [
    "points = []\n",
    "for i in range(len(X_test)):\n",
    "    input_seq = (\n",
    "        torch.tensor(X_test[i, :], dtype=torch.float32)\n",
    "        .to(device)\n",
    "        .unsqueeze(-1)\n",
    "        .unsqueeze(0)\n",
    "    )\n",
    "    value = gru(input_seq)\n",
    "    points.append(value.cpu().item())\n",
    "points = y_scaler.inverse_transform(np.array(points).reshape(-1, 1))\n",
    "print(mean_squared_error(points, y_scaler.inverse_transform(y_test.reshape(-1, 1))))\n",
    "plt.plot(y_scaler.inverse_transform(y_test.reshape(-1, 1)), label=\"Observed\")\n",
    "plt.plot(points, \"--\", label=\"Predicted\")\n",
    "plt.legend()"
   ]
  },
  {
   "cell_type": "code",
   "execution_count": null,
   "metadata": {},
   "outputs": [],
   "source": [
    "# torch.save(gru, \"../models/gru1.pt\")"
   ]
  }
 ],
 "metadata": {
  "kernelspec": {
   "display_name": "venv",
   "language": "python",
   "name": "python3"
  },
  "language_info": {
   "codemirror_mode": {
    "name": "ipython",
    "version": 3
   },
   "file_extension": ".py",
   "mimetype": "text/x-python",
   "name": "python",
   "nbconvert_exporter": "python",
   "pygments_lexer": "ipython3",
   "version": "3.13.1"
  }
 },
 "nbformat": 4,
 "nbformat_minor": 2
}
