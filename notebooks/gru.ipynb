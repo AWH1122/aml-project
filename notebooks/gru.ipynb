{
 "cells": [
  {
   "cell_type": "code",
   "execution_count": null,
   "metadata": {},
   "outputs": [],
   "source": [
    "import matplotlib.pyplot as plt\n",
    "import numpy as np\n",
    "import pandas as pd\n",
    "import torch\n",
    "import torch.nn as nn\n",
    "import torch.optim as optim\n",
    "import yfinance as yf\n",
    "from sklearn.model_selection import train_test_split\n",
    "from sklearn.preprocessing import MinMaxScaler\n",
    "from sklearn.metrics import mean_squared_error\n",
    "\n",
    "%config InlineBackend.figure_format = 'svg'"
   ]
  },
  {
   "cell_type": "code",
   "execution_count": null,
   "metadata": {},
   "outputs": [],
   "source": [
    "torch.manual_seed(0)\n",
    "device = torch.device(\n",
    "    \"cuda\"\n",
    "    if torch.cuda.is_available()\n",
    "    else \"mps\"\n",
    "    if torch.backends.mps.is_available()\n",
    "    else \"cpu\"\n",
    ")"
   ]
  },
  {
   "cell_type": "code",
   "execution_count": null,
   "metadata": {},
   "outputs": [],
   "source": [
    "# df = yf.download(\"EEM\", end=\"2025-01-01\", interval=\"1d\",multi_level_index=False)\n",
    "# df.to_csv(\"../data/raw/eem.csv\", index=True)"
   ]
  },
  {
   "cell_type": "code",
   "execution_count": null,
   "metadata": {},
   "outputs": [],
   "source": [
    "df = pd.read_csv(\"../data/raw/eem.csv\", parse_dates=True)"
   ]
  },
  {
   "cell_type": "code",
   "execution_count": null,
   "metadata": {},
   "outputs": [],
   "source": [
    "df[\"Close\"].plot(title=\"EEM\", figsize=(12, 8))"
   ]
  },
  {
   "cell_type": "code",
   "execution_count": null,
   "metadata": {},
   "outputs": [],
   "source": [
    "class GRU(nn.Module):\n",
    "    def __init__(self, input_size, hidden_layer_size, num_layers):\n",
    "        super(GRU, self).__init__()\n",
    "        self.num_layers = num_layers\n",
    "        self.hidden_layer_size = hidden_layer_size\n",
    "        self.gru = nn.GRU(\n",
    "            input_size, hidden_layer_size, num_layers=num_layers, batch_first=True\n",
    "        )\n",
    "        self.fc = nn.Linear(hidden_layer_size, 1)\n",
    "\n",
    "    def forward(self, x):\n",
    "        h0 = torch.zeros(self.num_layers, x.size(0), self.hidden_layer_size).to(device)\n",
    "        out, _ = self.gru(x, h0)\n",
    "        out = self.fc(out[:, -1, :])\n",
    "        return out"
   ]
  },
  {
   "cell_type": "code",
   "execution_count": null,
   "metadata": {},
   "outputs": [],
   "source": [
    "def create_sequences(data, window_size=7):\n",
    "    xs, ys = [], []\n",
    "    for i in range(len(data) - window_size):\n",
    "        x = data[i : (i + window_size)]\n",
    "        y = data[i + window_size]\n",
    "        xs.append(x)\n",
    "        ys.append(y)\n",
    "    return np.array(xs), np.array(ys)"
   ]
  },
  {
   "cell_type": "code",
   "execution_count": null,
   "metadata": {},
   "outputs": [],
   "source": [
    "num_inputs = 30\n",
    "gru = GRU(1, hidden_layer_size=64, num_layers=4).to(device)\n",
    "loss = nn.MSELoss()\n",
    "optimizer = optim.Adam(gru.parameters(), lr=0.005)\n",
    "epochs = 1000"
   ]
  },
  {
   "cell_type": "code",
   "execution_count": null,
   "metadata": {},
   "outputs": [],
   "source": [
    "x_scaler = MinMaxScaler()\n",
    "y_scaler = MinMaxScaler()"
   ]
  },
  {
   "cell_type": "code",
   "execution_count": null,
   "metadata": {},
   "outputs": [],
   "source": [
    "Xy_train, Xy_test = train_test_split(df[\"Close\"].values, test_size=0.3, shuffle=False)"
   ]
  },
  {
   "cell_type": "code",
   "execution_count": null,
   "metadata": {},
   "outputs": [],
   "source": [
    "X_train, y_train = create_sequences(Xy_train, window_size=num_inputs)\n",
    "X_test, y_test = create_sequences(Xy_test, window_size=num_inputs)\n",
    "X_train = x_scaler.fit_transform(X_train)\n",
    "X_test = x_scaler.transform(X_test)\n",
    "y_train = y_scaler.fit_transform(y_train.reshape(-1, 1)).reshape(-1)\n",
    "y_test = y_scaler.transform(y_test.reshape(-1, 1)).reshape(-1)"
   ]
  },
  {
   "cell_type": "code",
   "execution_count": null,
   "metadata": {},
   "outputs": [],
   "source": [
    "X_train_tensor = torch.tensor(X_train, dtype=torch.float32).unsqueeze(-1).to(device)\n",
    "y_train_tensor = torch.tensor(y_train, dtype=torch.float32).unsqueeze(-1).to(device)\n",
    "X_test_tensor = torch.tensor(X_test, dtype=torch.float32).unsqueeze(-1).to(device)\n",
    "y_test_tensor = torch.tensor(y_test, dtype=torch.float32).unsqueeze(-1).to(device)\n",
    "\n",
    "for epoch in range(epochs):\n",
    "    gru.train()\n",
    "    optimizer.zero_grad()\n",
    "\n",
    "    output = gru(X_train_tensor)\n",
    "    train_loss = loss(output, y_train_tensor)\n",
    "\n",
    "    train_loss.backward()\n",
    "    optimizer.step()\n",
    "\n",
    "    if (epoch + 1) % 100 == 0:\n",
    "        gru.eval()\n",
    "        with torch.no_grad():\n",
    "            test_output = gru(X_test_tensor)\n",
    "            test_loss = loss(test_output, y_test_tensor)\n",
    "        print(\n",
    "            f\"Epoch [{epoch + 1}/{epochs}], Train Loss: {train_loss.item()}, Test Loss: {test_loss.item()}\"\n",
    "        )"
   ]
  },
  {
   "cell_type": "code",
   "execution_count": null,
   "metadata": {},
   "outputs": [],
   "source": [
    "points = []\n",
    "for i in range(len(X_test)):\n",
    "    input_seq = (\n",
    "        torch.tensor(X_test[i, :], dtype=torch.float32)\n",
    "        .to(device)\n",
    "        .unsqueeze(-1)\n",
    "        .unsqueeze(0)\n",
    "    )\n",
    "    value = gru(input_seq)\n",
    "    points.append(value.cpu().item())\n",
    "points = y_scaler.inverse_transform(np.array(points).reshape(-1, 1))\n",
    "print(mean_squared_error(points, y_scaler.inverse_transform(y_test.reshape(-1, 1))))\n",
    "plt.plot(y_scaler.inverse_transform(y_test.reshape(-1, 1)), label=\"Observed\")\n",
    "plt.plot(points, \"--\", label=\"Predicted\")\n",
    "plt.legend()"
   ]
  },
  {
   "cell_type": "code",
   "execution_count": null,
   "metadata": {},
   "outputs": [],
   "source": [
    "# torch.save(gru, \"../models/gru1.pt\")"
   ]
  }
 ],
 "metadata": {
  "kernelspec": {
   "display_name": "venv",
   "language": "python",
   "name": "python3"
  },
  "language_info": {
   "codemirror_mode": {
    "name": "ipython",
    "version": 3
   },
   "file_extension": ".py",
   "mimetype": "text/x-python",
   "name": "python",
   "nbconvert_exporter": "python",
   "pygments_lexer": "ipython3",
   "version": "3.13.1"
  }
 },
 "nbformat": 4,
 "nbformat_minor": 2
}
