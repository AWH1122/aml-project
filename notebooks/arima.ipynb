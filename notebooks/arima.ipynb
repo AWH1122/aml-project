{
 "cells": [
  {
   "cell_type": "code",
   "execution_count": null,
   "metadata": {},
   "outputs": [],
   "source": [
    "import matplotlib.pyplot as plt\n",
    "import numpy as np\n",
    "import optuna\n",
    "import pandas as pd\n",
    "from sklearn.metrics import (\n",
    "    mean_absolute_percentage_error,\n",
    "    mean_squared_error,\n",
    "    root_mean_squared_error,\n",
    ")\n",
    "from sklearn.model_selection import train_test_split\n",
    "from statsmodels.tsa.statespace.sarimax import SARIMAX\n",
    "from statsmodels.tsa.stattools import adfuller\n",
    "\n",
    "%config InlineBackend.figure_formats = 'svg'"
   ]
  },
  {
   "cell_type": "code",
   "execution_count": null,
   "metadata": {},
   "outputs": [],
   "source": [
    "DATASET = \"lzemx\""
   ]
  },
  {
   "cell_type": "code",
   "execution_count": null,
   "metadata": {},
   "outputs": [],
   "source": [
    "df = pd.read_csv(f\"../data/raw/{DATASET}.csv\", parse_dates=True)"
   ]
  },
  {
   "cell_type": "code",
   "execution_count": null,
   "metadata": {},
   "outputs": [],
   "source": [
    "plt.plot(df[\"Close\"])"
   ]
  },
  {
   "cell_type": "code",
   "execution_count": null,
   "metadata": {},
   "outputs": [],
   "source": [
    "train_val, test = train_test_split(df[\"Close\"].values, test_size=0.2, shuffle=False)\n",
    "train, val = train_test_split(train_val, test_size=0.25, shuffle=False)"
   ]
  },
  {
   "cell_type": "code",
   "execution_count": null,
   "metadata": {},
   "outputs": [],
   "source": [
    "def objective(trial):\n",
    "    p = trial.suggest_int(\"p\", 0, 5)\n",
    "    q = trial.suggest_int(\"q\", 0, 5)\n",
    "    arima = SARIMAX(train, order=(p, 1, q))\n",
    "    model = arima.fit(disp=False)\n",
    "    points = []\n",
    "    for data in val:\n",
    "        pred = model.forecast(steps=1)\n",
    "        points.append(pred)\n",
    "        model = model.append([data], refit=False)\n",
    "    return mean_squared_error(val, points)"
   ]
  },
  {
   "cell_type": "code",
   "execution_count": null,
   "metadata": {},
   "outputs": [],
   "source": [
    "result = adfuller(df[\"Close\"])\n",
    "print(\"ADF Statistic:\", result[0])\n",
    "print(\"p-value:\", result[1])\n",
    "print(\"Critical Values:\", result[4])"
   ]
  },
  {
   "cell_type": "code",
   "execution_count": null,
   "metadata": {},
   "outputs": [],
   "source": [
    "d1 = df[\"Close\"].diff().dropna()\n",
    "result = adfuller(d1)\n",
    "print(\"ADF Statistic:\", result[0])\n",
    "print(\"p-value:\", result[1])\n",
    "print(\"Critical Values:\", result[4])\n",
    "d1.plot()"
   ]
  },
  {
   "cell_type": "code",
   "execution_count": null,
   "metadata": {},
   "outputs": [],
   "source": [
    "sampler = optuna.samplers.TPESampler(seed=0)\n",
    "study = optuna.create_study(direction=\"minimize\", sampler=sampler)\n",
    "study.optimize(objective, n_trials=50)"
   ]
  },
  {
   "cell_type": "code",
   "execution_count": null,
   "metadata": {},
   "outputs": [],
   "source": [
    "params = study.best_params\n",
    "p, q = params[\"p\"], params[\"q\"]\n",
    "print(f\"Best params: p={p}, q={q}\")"
   ]
  },
  {
   "cell_type": "code",
   "execution_count": null,
   "metadata": {},
   "outputs": [],
   "source": [
    "from statsmodels.graphics.tsaplots import plot_acf, plot_pacf\n",
    "\n",
    "fig, axes = plt.subplots(1, 2, figsize=(15, 5))\n",
    "\n",
    "# ACF plot\n",
    "plot_acf(d1, ax=axes[0])\n",
    "axes[0].set_title(\"Autocorrelation Function (ACF)\")\n",
    "\n",
    "# PACF plot\n",
    "plot_pacf(d1, ax=axes[1])\n",
    "axes[1].set_title(\"Partial Autocorrelation Function (PACF)\")\n",
    "\n",
    "plt.show()"
   ]
  },
  {
   "cell_type": "code",
   "execution_count": null,
   "metadata": {},
   "outputs": [],
   "source": [
    "arima = SARIMAX(train_val, order=(p, 1, q))\n",
    "model = arima.fit()\n",
    "\n",
    "points = []\n",
    "\n",
    "for i, data in enumerate(test):\n",
    "    pred = model.forecast(steps=1)\n",
    "    points.append(pred)\n",
    "    model = model.append([data], refit=False)\n",
    "    if i % 100 == 0:\n",
    "        print(f\"{i} / {len(test)}\")\n",
    "\n",
    "print(\"RMSE:\", root_mean_squared_error(test, points))\n",
    "print(\"MAPE:\", mean_absolute_percentage_error(test, points) * 100)\n",
    "\n",
    "plt.plot(test, label=\"Observed\")\n",
    "plt.plot(points, \"--\", label=\"Predicted\")\n",
    "plt.xlabel(\"Day\")\n",
    "plt.ylabel(\"Price\")\n",
    "plt.grid()\n",
    "plt.legend()\n",
    "plt.savefig(f\"../report/images/{DATASET}_arima.png\", dpi=300, bbox_inches=\"tight\")\n",
    "plt.show()"
   ]
  },
  {
   "cell_type": "code",
   "execution_count": null,
   "metadata": {},
   "outputs": [],
   "source": [
    "import pickle\n",
    "\n",
    "with open(f\"../{DATASET}_arima.pkl\", \"wb\") as f:\n",
    "    pickle.dump(points, f)"
   ]
  }
 ],
 "metadata": {
  "kernelspec": {
   "display_name": "venv",
   "language": "python",
   "name": "python3"
  },
  "language_info": {
   "codemirror_mode": {
    "name": "ipython",
    "version": 3
   },
   "file_extension": ".py",
   "mimetype": "text/x-python",
   "name": "python",
   "nbconvert_exporter": "python",
   "pygments_lexer": "ipython3",
   "version": "3.13.5"
  }
 },
 "nbformat": 4,
 "nbformat_minor": 2
}
